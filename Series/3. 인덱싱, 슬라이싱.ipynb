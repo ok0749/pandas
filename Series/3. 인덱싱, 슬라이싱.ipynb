{
 "cells": [
  {
   "cell_type": "code",
   "execution_count": 1,
   "metadata": {},
   "outputs": [],
   "source": [
    "import numpy as np\n",
    "import pandas as pd"
   ]
  },
  {
   "cell_type": "markdown",
   "metadata": {},
   "source": [
    "### 인덱싱\n",
    "- iloc: 인덱스 번호 기준\n",
    "- loc: 부여된 인덱스 기준"
   ]
  },
  {
   "cell_type": "code",
   "execution_count": 3,
   "metadata": {},
   "outputs": [
    {
     "data": {
      "text/plain": [
       "aa    10\n",
       "bb    20\n",
       "cc    30\n",
       "dd    40\n",
       "ee    50\n",
       "Name: 점수, dtype: int64"
      ]
     },
     "execution_count": 3,
     "metadata": {},
     "output_type": "execute_result"
    }
   ],
   "source": [
    "data = {'aa': 10, 'bb': 20, 'cc': 30, 'dd': 40, 'ee': 50}\n",
    "sr = pd.Series(data, name='점수')\n",
    "sr"
   ]
  },
  {
   "cell_type": "code",
   "execution_count": 19,
   "metadata": {},
   "outputs": [
    {
     "name": "stdout",
     "output_type": "stream",
     "text": [
      "10\n",
      "10\n",
      "10\n",
      "\n",
      "aa    10\n",
      "Name: 점수, dtype: int64\n",
      "\n",
      "aa    10\n",
      "Name: 점수, dtype: int64\n",
      "\n",
      "aa    10\n",
      "Name: 점수, dtype: int64\n"
     ]
    }
   ],
   "source": [
    "# 한개 데이터\n",
    "print(sr[0], sr.iloc[0], sr.loc['aa'], sep='\\n', end='\\n\\n') # 벡터 반환\n",
    "print(sr[[0]], sr.iloc[[0]], sr.loc[['aa']], sep='\\n\\n') # 시리즈 반환"
   ]
  },
  {
   "cell_type": "code",
   "execution_count": 14,
   "metadata": {},
   "outputs": [
    {
     "name": "stdout",
     "output_type": "stream",
     "text": [
      "aa    10\n",
      "bb    20\n",
      "cc    30\n",
      "Name: 점수, dtype: int64\n",
      "\n",
      "aa    10\n",
      "bb    20\n",
      "cc    30\n",
      "Name: 점수, dtype: int64\n",
      "\n",
      "aa    10\n",
      "bb    20\n",
      "cc    30\n",
      "Name: 점수, dtype: int64\n"
     ]
    }
   ],
   "source": [
    "# 복수개 데이터\n",
    "print(sr[[0,1,2]], sr.iloc[[0, 1, 2]], sr.loc[['aa', 'bb', 'cc']], sep='\\n\\n')"
   ]
  },
  {
   "cell_type": "markdown",
   "metadata": {},
   "source": [
    "### 슬라이싱"
   ]
  },
  {
   "cell_type": "code",
   "execution_count": 22,
   "metadata": {},
   "outputs": [
    {
     "data": {
      "text/plain": [
       "aa    10\n",
       "bb    20\n",
       "cc    30\n",
       "dd    40\n",
       "ee    50\n",
       "Name: 점수, dtype: int64"
      ]
     },
     "execution_count": 22,
     "metadata": {},
     "output_type": "execute_result"
    }
   ],
   "source": [
    "sr"
   ]
  },
  {
   "cell_type": "code",
   "execution_count": 23,
   "metadata": {},
   "outputs": [
    {
     "name": "stdout",
     "output_type": "stream",
     "text": [
      "bb    20\n",
      "cc    30\n",
      "dd    40\n",
      "Name: 점수, dtype: int64\n",
      "\n",
      "bb    20\n",
      "cc    30\n",
      "dd    40\n",
      "Name: 점수, dtype: int64\n",
      "\n",
      "bb    20\n",
      "cc    30\n",
      "dd    40\n",
      "ee    50\n",
      "Name: 점수, dtype: int64\n"
     ]
    }
   ],
   "source": [
    "print(sr[1:4], sr.iloc[1:4], sr.loc['bb':'ee'], sep='\\n\\n') # 부여된 인덱스로 슬라이싱은 끝도 포함한다."
   ]
  },
  {
   "cell_type": "code",
   "execution_count": 24,
   "metadata": {},
   "outputs": [
    {
     "data": {
      "text/plain": [
       "aa    10\n",
       "cc    30\n",
       "dd    40\n",
       "Name: 점수, dtype: int64"
      ]
     },
     "execution_count": 24,
     "metadata": {},
     "output_type": "execute_result"
    }
   ],
   "source": [
    "# boolean indexing\n",
    "sr[[True, False, True, True, False]]"
   ]
  },
  {
   "cell_type": "markdown",
   "metadata": {},
   "source": [
    "### 부여된 인덱스가 숫자인 경우\n",
    "- 반드시 iloc 또는 loc 사용\n",
    "- 그냥 인덱싱 하면 에러 ex) sr[0] -> 에러"
   ]
  },
  {
   "cell_type": "code",
   "execution_count": 33,
   "metadata": {},
   "outputs": [
    {
     "data": {
      "text/plain": [
       "2    10\n",
       "3    20\n",
       "4    30\n",
       "5    40\n",
       "6    50\n",
       "Name: 점수, dtype: int64"
      ]
     },
     "execution_count": 33,
     "metadata": {},
     "output_type": "execute_result"
    }
   ],
   "source": [
    "sr.index = 2, 3, 4, 5, 6\n",
    "sr"
   ]
  },
  {
   "cell_type": "code",
   "execution_count": 34,
   "metadata": {},
   "outputs": [
    {
     "name": "stdout",
     "output_type": "stream",
     "text": [
      "10\n",
      "10\n"
     ]
    }
   ],
   "source": [
    "print(sr.iloc[0], sr.loc[2], sep='\\n')"
   ]
  }
 ],
 "metadata": {
  "kernelspec": {
   "display_name": "Python 3",
   "language": "python",
   "name": "python3"
  },
  "language_info": {
   "codemirror_mode": {
    "name": "ipython",
    "version": 3
   },
   "file_extension": ".py",
   "mimetype": "text/x-python",
   "name": "python",
   "nbconvert_exporter": "python",
   "pygments_lexer": "ipython3",
   "version": "3.8.5"
  }
 },
 "nbformat": 4,
 "nbformat_minor": 4
}
