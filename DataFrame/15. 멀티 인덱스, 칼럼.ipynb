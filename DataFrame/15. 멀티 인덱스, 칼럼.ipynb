{
 "cells": [
  {
   "cell_type": "code",
   "execution_count": 1,
   "metadata": {},
   "outputs": [],
   "source": [
    "import numpy as np\n",
    "import pandas as pd"
   ]
  },
  {
   "cell_type": "code",
   "execution_count": 2,
   "metadata": {},
   "outputs": [
    {
     "data": {
      "text/html": [
       "<div>\n",
       "<style scoped>\n",
       "    .dataframe tbody tr th:only-of-type {\n",
       "        vertical-align: middle;\n",
       "    }\n",
       "\n",
       "    .dataframe tbody tr th {\n",
       "        vertical-align: top;\n",
       "    }\n",
       "\n",
       "    .dataframe thead th {\n",
       "        text-align: right;\n",
       "    }\n",
       "</style>\n",
       "<table border=\"1\" class=\"dataframe\">\n",
       "  <thead>\n",
       "    <tr style=\"text-align: right;\">\n",
       "      <th></th>\n",
       "      <th>0</th>\n",
       "      <th>1</th>\n",
       "      <th>2</th>\n",
       "      <th>3</th>\n",
       "      <th>4</th>\n",
       "      <th>5</th>\n",
       "    </tr>\n",
       "  </thead>\n",
       "  <tbody>\n",
       "    <tr>\n",
       "      <th>0</th>\n",
       "      <td>69</td>\n",
       "      <td>91</td>\n",
       "      <td>94</td>\n",
       "      <td>29</td>\n",
       "      <td>63</td>\n",
       "      <td>58</td>\n",
       "    </tr>\n",
       "    <tr>\n",
       "      <th>1</th>\n",
       "      <td>66</td>\n",
       "      <td>16</td>\n",
       "      <td>46</td>\n",
       "      <td>18</td>\n",
       "      <td>81</td>\n",
       "      <td>12</td>\n",
       "    </tr>\n",
       "    <tr>\n",
       "      <th>2</th>\n",
       "      <td>65</td>\n",
       "      <td>58</td>\n",
       "      <td>8</td>\n",
       "      <td>84</td>\n",
       "      <td>30</td>\n",
       "      <td>35</td>\n",
       "    </tr>\n",
       "    <tr>\n",
       "      <th>3</th>\n",
       "      <td>38</td>\n",
       "      <td>17</td>\n",
       "      <td>95</td>\n",
       "      <td>76</td>\n",
       "      <td>13</td>\n",
       "      <td>57</td>\n",
       "    </tr>\n",
       "  </tbody>\n",
       "</table>\n",
       "</div>"
      ],
      "text/plain": [
       "    0   1   2   3   4   5\n",
       "0  69  91  94  29  63  58\n",
       "1  66  16  46  18  81  12\n",
       "2  65  58   8  84  30  35\n",
       "3  38  17  95  76  13  57"
      ]
     },
     "execution_count": 2,
     "metadata": {},
     "output_type": "execute_result"
    }
   ],
   "source": [
    "# 성적 데이터프레임 생성\n",
    "data = np.random.randint(1, 100, size=(4, 6))\n",
    "df = pd.DataFrame(data)\n",
    "df"
   ]
  },
  {
   "cell_type": "code",
   "execution_count": 3,
   "metadata": {},
   "outputs": [
    {
     "data": {
      "text/html": [
       "<div>\n",
       "<style scoped>\n",
       "    .dataframe tbody tr th:only-of-type {\n",
       "        vertical-align: middle;\n",
       "    }\n",
       "\n",
       "    .dataframe tbody tr th {\n",
       "        vertical-align: top;\n",
       "    }\n",
       "\n",
       "    .dataframe thead th {\n",
       "        text-align: right;\n",
       "    }\n",
       "</style>\n",
       "<table border=\"1\" class=\"dataframe\">\n",
       "  <thead>\n",
       "    <tr style=\"text-align: right;\">\n",
       "      <th></th>\n",
       "      <th>학년</th>\n",
       "      <th>반</th>\n",
       "    </tr>\n",
       "  </thead>\n",
       "  <tbody>\n",
       "    <tr>\n",
       "      <th>0</th>\n",
       "      <td>1학년</td>\n",
       "      <td>1반</td>\n",
       "    </tr>\n",
       "    <tr>\n",
       "      <th>1</th>\n",
       "      <td>1학년</td>\n",
       "      <td>2반</td>\n",
       "    </tr>\n",
       "    <tr>\n",
       "      <th>2</th>\n",
       "      <td>2학년</td>\n",
       "      <td>1반</td>\n",
       "    </tr>\n",
       "    <tr>\n",
       "      <th>3</th>\n",
       "      <td>2학년</td>\n",
       "      <td>2반</td>\n",
       "    </tr>\n",
       "  </tbody>\n",
       "</table>\n",
       "</div>"
      ],
      "text/plain": [
       "    학년   반\n",
       "0  1학년  1반\n",
       "1  1학년  2반\n",
       "2  2학년  1반\n",
       "3  2학년  2반"
      ]
     },
     "execution_count": 3,
     "metadata": {},
     "output_type": "execute_result"
    }
   ],
   "source": [
    "# 학년, 반 데이터프레임 생성\n",
    "df2 = pd.DataFrame({'학년': ['1학년', '1학년', '2학년', '2학년'], '반': ['1반', '2반', '1반', '2반']})\n",
    "df2"
   ]
  },
  {
   "cell_type": "code",
   "execution_count": 4,
   "metadata": {},
   "outputs": [
    {
     "data": {
      "text/html": [
       "<div>\n",
       "<style scoped>\n",
       "    .dataframe tbody tr th:only-of-type {\n",
       "        vertical-align: middle;\n",
       "    }\n",
       "\n",
       "    .dataframe tbody tr th {\n",
       "        vertical-align: top;\n",
       "    }\n",
       "\n",
       "    .dataframe thead th {\n",
       "        text-align: right;\n",
       "    }\n",
       "</style>\n",
       "<table border=\"1\" class=\"dataframe\">\n",
       "  <thead>\n",
       "    <tr style=\"text-align: right;\">\n",
       "      <th></th>\n",
       "      <th>0</th>\n",
       "      <th>1</th>\n",
       "      <th>2</th>\n",
       "      <th>3</th>\n",
       "      <th>4</th>\n",
       "      <th>5</th>\n",
       "      <th>학년</th>\n",
       "      <th>반</th>\n",
       "    </tr>\n",
       "  </thead>\n",
       "  <tbody>\n",
       "    <tr>\n",
       "      <th>0</th>\n",
       "      <td>69</td>\n",
       "      <td>91</td>\n",
       "      <td>94</td>\n",
       "      <td>29</td>\n",
       "      <td>63</td>\n",
       "      <td>58</td>\n",
       "      <td>1학년</td>\n",
       "      <td>1반</td>\n",
       "    </tr>\n",
       "    <tr>\n",
       "      <th>1</th>\n",
       "      <td>66</td>\n",
       "      <td>16</td>\n",
       "      <td>46</td>\n",
       "      <td>18</td>\n",
       "      <td>81</td>\n",
       "      <td>12</td>\n",
       "      <td>1학년</td>\n",
       "      <td>2반</td>\n",
       "    </tr>\n",
       "    <tr>\n",
       "      <th>2</th>\n",
       "      <td>65</td>\n",
       "      <td>58</td>\n",
       "      <td>8</td>\n",
       "      <td>84</td>\n",
       "      <td>30</td>\n",
       "      <td>35</td>\n",
       "      <td>2학년</td>\n",
       "      <td>1반</td>\n",
       "    </tr>\n",
       "    <tr>\n",
       "      <th>3</th>\n",
       "      <td>38</td>\n",
       "      <td>17</td>\n",
       "      <td>95</td>\n",
       "      <td>76</td>\n",
       "      <td>13</td>\n",
       "      <td>57</td>\n",
       "      <td>2학년</td>\n",
       "      <td>2반</td>\n",
       "    </tr>\n",
       "  </tbody>\n",
       "</table>\n",
       "</div>"
      ],
      "text/plain": [
       "    0   1   2   3   4   5   학년   반\n",
       "0  69  91  94  29  63  58  1학년  1반\n",
       "1  66  16  46  18  81  12  1학년  2반\n",
       "2  65  58   8  84  30  35  2학년  1반\n",
       "3  38  17  95  76  13  57  2학년  2반"
      ]
     },
     "execution_count": 4,
     "metadata": {},
     "output_type": "execute_result"
    }
   ],
   "source": [
    "# 두 데이터프레임 결합\n",
    "df = pd.concat([df, df2], axis=1)\n",
    "df"
   ]
  },
  {
   "cell_type": "markdown",
   "metadata": {},
   "source": [
    "### 멀티 인데스"
   ]
  },
  {
   "cell_type": "code",
   "execution_count": 5,
   "metadata": {},
   "outputs": [
    {
     "data": {
      "text/html": [
       "<div>\n",
       "<style scoped>\n",
       "    .dataframe tbody tr th:only-of-type {\n",
       "        vertical-align: middle;\n",
       "    }\n",
       "\n",
       "    .dataframe tbody tr th {\n",
       "        vertical-align: top;\n",
       "    }\n",
       "\n",
       "    .dataframe thead th {\n",
       "        text-align: right;\n",
       "    }\n",
       "</style>\n",
       "<table border=\"1\" class=\"dataframe\">\n",
       "  <thead>\n",
       "    <tr style=\"text-align: right;\">\n",
       "      <th></th>\n",
       "      <th></th>\n",
       "      <th>0</th>\n",
       "      <th>1</th>\n",
       "      <th>2</th>\n",
       "      <th>3</th>\n",
       "      <th>4</th>\n",
       "      <th>5</th>\n",
       "    </tr>\n",
       "    <tr>\n",
       "      <th>학년</th>\n",
       "      <th>반</th>\n",
       "      <th></th>\n",
       "      <th></th>\n",
       "      <th></th>\n",
       "      <th></th>\n",
       "      <th></th>\n",
       "      <th></th>\n",
       "    </tr>\n",
       "  </thead>\n",
       "  <tbody>\n",
       "    <tr>\n",
       "      <th rowspan=\"2\" valign=\"top\">1학년</th>\n",
       "      <th>1반</th>\n",
       "      <td>69</td>\n",
       "      <td>91</td>\n",
       "      <td>94</td>\n",
       "      <td>29</td>\n",
       "      <td>63</td>\n",
       "      <td>58</td>\n",
       "    </tr>\n",
       "    <tr>\n",
       "      <th>2반</th>\n",
       "      <td>66</td>\n",
       "      <td>16</td>\n",
       "      <td>46</td>\n",
       "      <td>18</td>\n",
       "      <td>81</td>\n",
       "      <td>12</td>\n",
       "    </tr>\n",
       "    <tr>\n",
       "      <th rowspan=\"2\" valign=\"top\">2학년</th>\n",
       "      <th>1반</th>\n",
       "      <td>65</td>\n",
       "      <td>58</td>\n",
       "      <td>8</td>\n",
       "      <td>84</td>\n",
       "      <td>30</td>\n",
       "      <td>35</td>\n",
       "    </tr>\n",
       "    <tr>\n",
       "      <th>2반</th>\n",
       "      <td>38</td>\n",
       "      <td>17</td>\n",
       "      <td>95</td>\n",
       "      <td>76</td>\n",
       "      <td>13</td>\n",
       "      <td>57</td>\n",
       "    </tr>\n",
       "  </tbody>\n",
       "</table>\n",
       "</div>"
      ],
      "text/plain": [
       "         0   1   2   3   4   5\n",
       "학년  반                         \n",
       "1학년 1반  69  91  94  29  63  58\n",
       "    2반  66  16  46  18  81  12\n",
       "2학년 1반  65  58   8  84  30  35\n",
       "    2반  38  17  95  76  13  57"
      ]
     },
     "execution_count": 5,
     "metadata": {},
     "output_type": "execute_result"
    }
   ],
   "source": [
    "# set_index 사용해 멀티 인덱스 생성\n",
    "df = df.set_index(['학년', '반'])\n",
    "df"
   ]
  },
  {
   "cell_type": "code",
   "execution_count": 6,
   "metadata": {},
   "outputs": [
    {
     "data": {
      "text/html": [
       "<div>\n",
       "<style scoped>\n",
       "    .dataframe tbody tr th:only-of-type {\n",
       "        vertical-align: middle;\n",
       "    }\n",
       "\n",
       "    .dataframe tbody tr th {\n",
       "        vertical-align: top;\n",
       "    }\n",
       "\n",
       "    .dataframe thead th {\n",
       "        text-align: right;\n",
       "    }\n",
       "</style>\n",
       "<table border=\"1\" class=\"dataframe\">\n",
       "  <thead>\n",
       "    <tr style=\"text-align: right;\">\n",
       "      <th></th>\n",
       "      <th></th>\n",
       "      <th>0</th>\n",
       "      <th>1</th>\n",
       "      <th>2</th>\n",
       "      <th>3</th>\n",
       "      <th>4</th>\n",
       "      <th>5</th>\n",
       "    </tr>\n",
       "    <tr>\n",
       "      <th>학년</th>\n",
       "      <th>반</th>\n",
       "      <th></th>\n",
       "      <th></th>\n",
       "      <th></th>\n",
       "      <th></th>\n",
       "      <th></th>\n",
       "      <th></th>\n",
       "    </tr>\n",
       "  </thead>\n",
       "  <tbody>\n",
       "    <tr>\n",
       "      <th rowspan=\"2\" valign=\"top\">1학년</th>\n",
       "      <th>1반</th>\n",
       "      <td>69</td>\n",
       "      <td>91</td>\n",
       "      <td>94</td>\n",
       "      <td>29</td>\n",
       "      <td>63</td>\n",
       "      <td>58</td>\n",
       "    </tr>\n",
       "    <tr>\n",
       "      <th>2반</th>\n",
       "      <td>66</td>\n",
       "      <td>16</td>\n",
       "      <td>46</td>\n",
       "      <td>18</td>\n",
       "      <td>81</td>\n",
       "      <td>12</td>\n",
       "    </tr>\n",
       "    <tr>\n",
       "      <th rowspan=\"2\" valign=\"top\">2학년</th>\n",
       "      <th>1반</th>\n",
       "      <td>65</td>\n",
       "      <td>58</td>\n",
       "      <td>8</td>\n",
       "      <td>84</td>\n",
       "      <td>30</td>\n",
       "      <td>35</td>\n",
       "    </tr>\n",
       "    <tr>\n",
       "      <th>2반</th>\n",
       "      <td>38</td>\n",
       "      <td>17</td>\n",
       "      <td>95</td>\n",
       "      <td>76</td>\n",
       "      <td>13</td>\n",
       "      <td>57</td>\n",
       "    </tr>\n",
       "  </tbody>\n",
       "</table>\n",
       "</div>"
      ],
      "text/plain": [
       "         0   1   2   3   4   5\n",
       "학년  반                         \n",
       "1학년 1반  69  91  94  29  63  58\n",
       "    2반  66  16  46  18  81  12\n",
       "2학년 1반  65  58   8  84  30  35\n",
       "    2반  38  17  95  76  13  57"
      ]
     },
     "execution_count": 6,
     "metadata": {},
     "output_type": "execute_result"
    }
   ],
   "source": [
    "# MultiIndex.from_product 사용해 멀티 인덱스 생성\n",
    "df.index = pd.MultiIndex.from_product([['1학년', '2학년'], ['1반', '2반']], names=['학년', '반'])\n",
    "df"
   ]
  },
  {
   "cell_type": "code",
   "execution_count": 7,
   "metadata": {},
   "outputs": [
    {
     "data": {
      "text/plain": [
       "MultiIndex([('1학년', '1반'),\n",
       "            ('1학년', '2반'),\n",
       "            ('2학년', '1반'),\n",
       "            ('2학년', '2반')],\n",
       "           names=['학년', '반'])"
      ]
     },
     "execution_count": 7,
     "metadata": {},
     "output_type": "execute_result"
    }
   ],
   "source": [
    "df.index"
   ]
  },
  {
   "cell_type": "code",
   "execution_count": 8,
   "metadata": {},
   "outputs": [
    {
     "data": {
      "text/plain": [
       "FrozenList([['1학년', '2학년'], ['1반', '2반']])"
      ]
     },
     "execution_count": 8,
     "metadata": {},
     "output_type": "execute_result"
    }
   ],
   "source": [
    "# 멀티 인덱스 요소 확인(중복 제거)\n",
    "df.index.levels"
   ]
  },
  {
   "cell_type": "code",
   "execution_count": 9,
   "metadata": {},
   "outputs": [
    {
     "name": "stdout",
     "output_type": "stream",
     "text": [
      "Index(['1학년', '1학년', '2학년', '2학년'], dtype='object', name='학년')\n"
     ]
    },
    {
     "data": {
      "text/plain": [
       "Index(['1반', '2반', '1반', '2반'], dtype='object', name='반')"
      ]
     },
     "execution_count": 9,
     "metadata": {},
     "output_type": "execute_result"
    }
   ],
   "source": [
    "# 멀티 인덱스 특정 컬럼 확인\n",
    "print(df.index.get_level_values(0))\n",
    "df.index.get_level_values(1)"
   ]
  },
  {
   "cell_type": "code",
   "execution_count": 10,
   "metadata": {},
   "outputs": [
    {
     "data": {
      "text/html": [
       "<div>\n",
       "<style scoped>\n",
       "    .dataframe tbody tr th:only-of-type {\n",
       "        vertical-align: middle;\n",
       "    }\n",
       "\n",
       "    .dataframe tbody tr th {\n",
       "        vertical-align: top;\n",
       "    }\n",
       "\n",
       "    .dataframe thead th {\n",
       "        text-align: right;\n",
       "    }\n",
       "</style>\n",
       "<table border=\"1\" class=\"dataframe\">\n",
       "  <thead>\n",
       "    <tr style=\"text-align: right;\">\n",
       "      <th></th>\n",
       "      <th>학년</th>\n",
       "      <th>반</th>\n",
       "      <th>0</th>\n",
       "      <th>1</th>\n",
       "      <th>2</th>\n",
       "      <th>3</th>\n",
       "      <th>4</th>\n",
       "      <th>5</th>\n",
       "    </tr>\n",
       "  </thead>\n",
       "  <tbody>\n",
       "    <tr>\n",
       "      <th>0</th>\n",
       "      <td>1학년</td>\n",
       "      <td>1반</td>\n",
       "      <td>69</td>\n",
       "      <td>91</td>\n",
       "      <td>94</td>\n",
       "      <td>29</td>\n",
       "      <td>63</td>\n",
       "      <td>58</td>\n",
       "    </tr>\n",
       "    <tr>\n",
       "      <th>1</th>\n",
       "      <td>1학년</td>\n",
       "      <td>2반</td>\n",
       "      <td>66</td>\n",
       "      <td>16</td>\n",
       "      <td>46</td>\n",
       "      <td>18</td>\n",
       "      <td>81</td>\n",
       "      <td>12</td>\n",
       "    </tr>\n",
       "    <tr>\n",
       "      <th>2</th>\n",
       "      <td>2학년</td>\n",
       "      <td>1반</td>\n",
       "      <td>65</td>\n",
       "      <td>58</td>\n",
       "      <td>8</td>\n",
       "      <td>84</td>\n",
       "      <td>30</td>\n",
       "      <td>35</td>\n",
       "    </tr>\n",
       "    <tr>\n",
       "      <th>3</th>\n",
       "      <td>2학년</td>\n",
       "      <td>2반</td>\n",
       "      <td>38</td>\n",
       "      <td>17</td>\n",
       "      <td>95</td>\n",
       "      <td>76</td>\n",
       "      <td>13</td>\n",
       "      <td>57</td>\n",
       "    </tr>\n",
       "  </tbody>\n",
       "</table>\n",
       "</div>"
      ],
      "text/plain": [
       "    학년   반   0   1   2   3   4   5\n",
       "0  1학년  1반  69  91  94  29  63  58\n",
       "1  1학년  2반  66  16  46  18  81  12\n",
       "2  2학년  1반  65  58   8  84  30  35\n",
       "3  2학년  2반  38  17  95  76  13  57"
      ]
     },
     "execution_count": 10,
     "metadata": {},
     "output_type": "execute_result"
    }
   ],
   "source": [
    "# 인덱스를 컬럼으로 변환\n",
    "df.reset_index() "
   ]
  },
  {
   "cell_type": "markdown",
   "metadata": {},
   "source": [
    "### 멀티 컬럼"
   ]
  },
  {
   "cell_type": "code",
   "execution_count": 15,
   "metadata": {},
   "outputs": [
    {
     "data": {
      "text/html": [
       "<div>\n",
       "<style scoped>\n",
       "    .dataframe tbody tr th:only-of-type {\n",
       "        vertical-align: middle;\n",
       "    }\n",
       "\n",
       "    .dataframe tbody tr th {\n",
       "        vertical-align: top;\n",
       "    }\n",
       "\n",
       "    .dataframe thead tr th {\n",
       "        text-align: left;\n",
       "    }\n",
       "\n",
       "    .dataframe thead tr:last-of-type th {\n",
       "        text-align: right;\n",
       "    }\n",
       "</style>\n",
       "<table border=\"1\" class=\"dataframe\">\n",
       "  <thead>\n",
       "    <tr>\n",
       "      <th></th>\n",
       "      <th></th>\n",
       "      <th colspan=\"2\" halign=\"left\">홍길동</th>\n",
       "      <th colspan=\"2\" halign=\"left\">이순신</th>\n",
       "      <th colspan=\"2\" halign=\"left\">임꺽정</th>\n",
       "    </tr>\n",
       "    <tr>\n",
       "      <th></th>\n",
       "      <th></th>\n",
       "      <th>국어</th>\n",
       "      <th>영어</th>\n",
       "      <th>국어</th>\n",
       "      <th>영어</th>\n",
       "      <th>국어</th>\n",
       "      <th>영어</th>\n",
       "    </tr>\n",
       "    <tr>\n",
       "      <th>학년</th>\n",
       "      <th>반</th>\n",
       "      <th></th>\n",
       "      <th></th>\n",
       "      <th></th>\n",
       "      <th></th>\n",
       "      <th></th>\n",
       "      <th></th>\n",
       "    </tr>\n",
       "  </thead>\n",
       "  <tbody>\n",
       "    <tr>\n",
       "      <th rowspan=\"2\" valign=\"top\">1학년</th>\n",
       "      <th>1반</th>\n",
       "      <td>69</td>\n",
       "      <td>91</td>\n",
       "      <td>94</td>\n",
       "      <td>29</td>\n",
       "      <td>63</td>\n",
       "      <td>58</td>\n",
       "    </tr>\n",
       "    <tr>\n",
       "      <th>2반</th>\n",
       "      <td>66</td>\n",
       "      <td>16</td>\n",
       "      <td>46</td>\n",
       "      <td>18</td>\n",
       "      <td>81</td>\n",
       "      <td>12</td>\n",
       "    </tr>\n",
       "    <tr>\n",
       "      <th rowspan=\"2\" valign=\"top\">2학년</th>\n",
       "      <th>1반</th>\n",
       "      <td>65</td>\n",
       "      <td>58</td>\n",
       "      <td>8</td>\n",
       "      <td>84</td>\n",
       "      <td>30</td>\n",
       "      <td>35</td>\n",
       "    </tr>\n",
       "    <tr>\n",
       "      <th>2반</th>\n",
       "      <td>38</td>\n",
       "      <td>17</td>\n",
       "      <td>95</td>\n",
       "      <td>76</td>\n",
       "      <td>13</td>\n",
       "      <td>57</td>\n",
       "    </tr>\n",
       "  </tbody>\n",
       "</table>\n",
       "</div>"
      ],
      "text/plain": [
       "       홍길동     이순신     임꺽정    \n",
       "        국어  영어  국어  영어  국어  영어\n",
       "학년  반                         \n",
       "1학년 1반  69  91  94  29  63  58\n",
       "    2반  66  16  46  18  81  12\n",
       "2학년 1반  65  58   8  84  30  35\n",
       "    2반  38  17  95  76  13  57"
      ]
     },
     "execution_count": 15,
     "metadata": {},
     "output_type": "execute_result"
    }
   ],
   "source": [
    "df.columns = pd.MultiIndex.from_product([['홍길동', '이순신', '임꺽정'], ['국어', '영어']])\n",
    "df"
   ]
  },
  {
   "cell_type": "code",
   "execution_count": 13,
   "metadata": {},
   "outputs": [
    {
     "data": {
      "text/plain": [
       "MultiIndex([('홍길동', '국어'),\n",
       "            ('홍길동', '영어'),\n",
       "            ('이순신', '국어'),\n",
       "            ('이순신', '영어'),\n",
       "            ('임꺽정', '국어'),\n",
       "            ('임꺽정', '영어')],\n",
       "           )"
      ]
     },
     "execution_count": 13,
     "metadata": {},
     "output_type": "execute_result"
    }
   ],
   "source": [
    "df.columns"
   ]
  },
  {
   "cell_type": "code",
   "execution_count": 16,
   "metadata": {},
   "outputs": [
    {
     "data": {
      "text/plain": [
       "FrozenList([['이순신', '임꺽정', '홍길동'], ['국어', '영어']])"
      ]
     },
     "execution_count": 16,
     "metadata": {},
     "output_type": "execute_result"
    }
   ],
   "source": [
    "# 멀티 컬럼 요소 확인(중복 제거)\n",
    "df.columns.levels"
   ]
  },
  {
   "cell_type": "code",
   "execution_count": 19,
   "metadata": {},
   "outputs": [
    {
     "name": "stdout",
     "output_type": "stream",
     "text": [
      "Index(['홍길동', '홍길동', '이순신', '이순신', '임꺽정', '임꺽정'], dtype='object')\n"
     ]
    },
    {
     "data": {
      "text/plain": [
       "Index(['국어', '영어', '국어', '영어', '국어', '영어'], dtype='object')"
      ]
     },
     "execution_count": 19,
     "metadata": {},
     "output_type": "execute_result"
    }
   ],
   "source": [
    "# 멀티 컬럼 특정 행 요소 확인\n",
    "print(df.columns.get_level_values(0))\n",
    "df.columns.get_level_values(1)"
   ]
  }
 ],
 "metadata": {
  "kernelspec": {
   "display_name": "Python 3",
   "language": "python",
   "name": "python3"
  },
  "language_info": {
   "codemirror_mode": {
    "name": "ipython",
    "version": 3
   },
   "file_extension": ".py",
   "mimetype": "text/x-python",
   "name": "python",
   "nbconvert_exporter": "python",
   "pygments_lexer": "ipython3",
   "version": "3.8.5"
  }
 },
 "nbformat": 4,
 "nbformat_minor": 4
}
