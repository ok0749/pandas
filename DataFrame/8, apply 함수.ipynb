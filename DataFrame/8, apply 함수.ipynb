{
 "cells": [
  {
   "cell_type": "code",
   "execution_count": 1,
   "metadata": {},
   "outputs": [],
   "source": [
    "import numpy as np\n",
    "import pandas as pd"
   ]
  },
  {
   "cell_type": "code",
   "execution_count": 2,
   "metadata": {},
   "outputs": [
    {
     "data": {
      "text/html": [
       "<div>\n",
       "<style scoped>\n",
       "    .dataframe tbody tr th:only-of-type {\n",
       "        vertical-align: middle;\n",
       "    }\n",
       "\n",
       "    .dataframe tbody tr th {\n",
       "        vertical-align: top;\n",
       "    }\n",
       "\n",
       "    .dataframe thead th {\n",
       "        text-align: right;\n",
       "    }\n",
       "</style>\n",
       "<table border=\"1\" class=\"dataframe\">\n",
       "  <thead>\n",
       "    <tr style=\"text-align: right;\">\n",
       "      <th></th>\n",
       "      <th>eng</th>\n",
       "      <th>kor</th>\n",
       "      <th>math</th>\n",
       "    </tr>\n",
       "  </thead>\n",
       "  <tbody>\n",
       "    <tr>\n",
       "      <th>a</th>\n",
       "      <td>10</td>\n",
       "      <td>20</td>\n",
       "      <td>90</td>\n",
       "    </tr>\n",
       "    <tr>\n",
       "      <th>b</th>\n",
       "      <td>30</td>\n",
       "      <td>40</td>\n",
       "      <td>50</td>\n",
       "    </tr>\n",
       "    <tr>\n",
       "      <th>c</th>\n",
       "      <td>50</td>\n",
       "      <td>60</td>\n",
       "      <td>20</td>\n",
       "    </tr>\n",
       "    <tr>\n",
       "      <th>d</th>\n",
       "      <td>70</td>\n",
       "      <td>80</td>\n",
       "      <td>70</td>\n",
       "    </tr>\n",
       "  </tbody>\n",
       "</table>\n",
       "</div>"
      ],
      "text/plain": [
       "   eng  kor  math\n",
       "a   10   20    90\n",
       "b   30   40    50\n",
       "c   50   60    20\n",
       "d   70   80    70"
      ]
     },
     "execution_count": 2,
     "metadata": {},
     "output_type": "execute_result"
    }
   ],
   "source": [
    "data = {'eng': [10, 30, 50 ,70],\n",
    "       'kor': [20, 40, 60, 80],\n",
    "       'math': [90, 50, 20, 70]}\n",
    "df = pd.DataFrame(data, index=['a', 'b', 'c', 'd'])\n",
    "df"
   ]
  },
  {
   "cell_type": "code",
   "execution_count": 22,
   "metadata": {},
   "outputs": [],
   "source": [
    "def fn(x):\n",
    "    print('='*24)\n",
    "    print(x)\n",
    "    print('='*24)"
   ]
  },
  {
   "cell_type": "code",
   "execution_count": 23,
   "metadata": {},
   "outputs": [
    {
     "name": "stdout",
     "output_type": "stream",
     "text": [
      "========================\n",
      "a    10\n",
      "b    30\n",
      "c    50\n",
      "d    70\n",
      "Name: eng, dtype: int64\n",
      "========================\n",
      "========================\n",
      "a    20\n",
      "b    40\n",
      "c    60\n",
      "d    80\n",
      "Name: kor, dtype: int64\n",
      "========================\n",
      "========================\n",
      "a    90\n",
      "b    50\n",
      "c    20\n",
      "d    70\n",
      "Name: math, dtype: int64\n",
      "========================\n"
     ]
    },
    {
     "data": {
      "text/plain": [
       "eng     None\n",
       "kor     None\n",
       "math    None\n",
       "dtype: object"
      ]
     },
     "execution_count": 23,
     "metadata": {},
     "output_type": "execute_result"
    }
   ],
   "source": [
    "df.apply(fn) # -> 컬럼별 데이터 "
   ]
  },
  {
   "cell_type": "code",
   "execution_count": 24,
   "metadata": {},
   "outputs": [
    {
     "name": "stdout",
     "output_type": "stream",
     "text": [
      "========================\n",
      "eng     10\n",
      "kor     20\n",
      "math    90\n",
      "Name: a, dtype: int64\n",
      "========================\n",
      "========================\n",
      "eng     30\n",
      "kor     40\n",
      "math    50\n",
      "Name: b, dtype: int64\n",
      "========================\n",
      "========================\n",
      "eng     50\n",
      "kor     60\n",
      "math    20\n",
      "Name: c, dtype: int64\n",
      "========================\n",
      "========================\n",
      "eng     70\n",
      "kor     80\n",
      "math    70\n",
      "Name: d, dtype: int64\n",
      "========================\n"
     ]
    },
    {
     "data": {
      "text/plain": [
       "a    None\n",
       "b    None\n",
       "c    None\n",
       "d    None\n",
       "dtype: object"
      ]
     },
     "execution_count": 24,
     "metadata": {},
     "output_type": "execute_result"
    }
   ],
   "source": [
    "df.apply(fn, axis=1) # -> 로우별 데이터 "
   ]
  },
  {
   "cell_type": "code",
   "execution_count": 5,
   "metadata": {},
   "outputs": [
    {
     "data": {
      "text/plain": [
       "eng     불합격\n",
       "kor     불합격\n",
       "math     합격\n",
       "dtype: object"
      ]
     },
     "execution_count": 5,
     "metadata": {},
     "output_type": "execute_result"
    }
   ],
   "source": [
    "# 'a'행 값이 30보다 크면 합격 아니면 불합격\n",
    "df.apply(lambda x: '합격' if x['a'] > 30 else '불합격')"
   ]
  },
  {
   "cell_type": "code",
   "execution_count": 21,
   "metadata": {},
   "outputs": [
    {
     "data": {
      "text/plain": [
       "a    불합격\n",
       "b    불합격\n",
       "c     합격\n",
       "d    불합격\n",
       "dtype: object"
      ]
     },
     "execution_count": 21,
     "metadata": {},
     "output_type": "execute_result"
    }
   ],
   "source": [
    "# 'eng'컬럼 값이 로부별 평귭보다 크면 합격 아니면 불합격\n",
    "df.apply(lambda x: '합격' if x['eng'] > x.mean(axis=0) else '불합격', axis=1)"
   ]
  }
 ],
 "metadata": {
  "kernelspec": {
   "display_name": "Python 3",
   "language": "python",
   "name": "python3"
  },
  "language_info": {
   "codemirror_mode": {
    "name": "ipython",
    "version": 3
   },
   "file_extension": ".py",
   "mimetype": "text/x-python",
   "name": "python",
   "nbconvert_exporter": "python",
   "pygments_lexer": "ipython3",
   "version": "3.8.5"
  }
 },
 "nbformat": 4,
 "nbformat_minor": 4
}
