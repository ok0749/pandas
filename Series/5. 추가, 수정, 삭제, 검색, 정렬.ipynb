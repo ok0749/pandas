{
 "cells": [
  {
   "cell_type": "code",
   "execution_count": 1,
   "metadata": {},
   "outputs": [],
   "source": [
    "import numpy as np\n",
    "import pandas as pd"
   ]
  },
  {
   "cell_type": "markdown",
   "metadata": {},
   "source": [
    "### 추가"
   ]
  },
  {
   "cell_type": "code",
   "execution_count": 11,
   "metadata": {},
   "outputs": [
    {
     "data": {
      "text/plain": [
       "aa    11\n",
       "bb    22\n",
       "cc    33\n",
       "dd    44\n",
       "ee    55\n",
       "dtype: int64"
      ]
     },
     "execution_count": 11,
     "metadata": {},
     "output_type": "execute_result"
    }
   ],
   "source": [
    "sr = pd.Series({'aa': 11, 'bb': 22, 'cc': 33, 'dd': 44, 'ee': 55})\n",
    "sr"
   ]
  },
  {
   "cell_type": "code",
   "execution_count": 12,
   "metadata": {},
   "outputs": [
    {
     "data": {
      "text/plain": [
       "aa     11\n",
       "bb     22\n",
       "cc     33\n",
       "dd     44\n",
       "ee     55\n",
       "10    300\n",
       "dtype: int64"
      ]
     },
     "execution_count": 12,
     "metadata": {},
     "output_type": "execute_result"
    }
   ],
   "source": [
    "# 해당 인덱스가 있으면 수정, 없으면 추가\n",
    "sr.loc[10] = 300\n",
    "sr['kk'] = 200\n",
    "# sr[11] -> 에러\n",
    "# sr.iloc[11] -> 에러\n",
    "sr"
   ]
  },
  {
   "cell_type": "code",
   "execution_count": 17,
   "metadata": {},
   "outputs": [
    {
     "data": {
      "text/plain": [
       "aa     11\n",
       "bb     22\n",
       "cc     33\n",
       "dd     44\n",
       "ee     55\n",
       "10    300\n",
       "kk    200\n",
       "0      77\n",
       "1      88\n",
       "2      99\n",
       "dtype: int64"
      ]
     },
     "execution_count": 17,
     "metadata": {},
     "output_type": "execute_result"
    }
   ],
   "source": [
    "# 시리즈를 시리즈에 추가할 경우\n",
    "sr.append(pd.Series([77, 88, 99])) # 인덱스를 주지 않으면 0부터 순서대로 부여"
   ]
  },
  {
   "cell_type": "code",
   "execution_count": 18,
   "metadata": {},
   "outputs": [
    {
     "data": {
      "text/plain": [
       "0     11\n",
       "1     22\n",
       "2     33\n",
       "3     44\n",
       "4     55\n",
       "5    300\n",
       "6    200\n",
       "7     77\n",
       "8     88\n",
       "9     99\n",
       "dtype: int64"
      ]
     },
     "execution_count": 18,
     "metadata": {},
     "output_type": "execute_result"
    }
   ],
   "source": [
    "sr.append(pd.Series([77, 88, 99]), ignore_index=True) # ignore_index=True하면 인덱스를 reset시킨다"
   ]
  },
  {
   "cell_type": "markdown",
   "metadata": {},
   "source": [
    "### 수정 "
   ]
  },
  {
   "cell_type": "code",
   "execution_count": 21,
   "metadata": {},
   "outputs": [
    {
     "data": {
      "text/plain": [
       "aa     11\n",
       "bb      1\n",
       "cc      2\n",
       "dd     44\n",
       "ee     55\n",
       "10    300\n",
       "kk    200\n",
       "dtype: int64"
      ]
     },
     "execution_count": 21,
     "metadata": {},
     "output_type": "execute_result"
    }
   ],
   "source": [
    "# 다 같은 결과\n",
    "sr[1:3] = 1, 2\n",
    "sr.iloc[1:3] = 1, 2\n",
    "sr['bb':'cc'] = 1, 2\n",
    "sr.loc['bb':'cc'] = 1, 2\n",
    "sr"
   ]
  },
  {
   "cell_type": "markdown",
   "metadata": {},
   "source": [
    "### 삭제"
   ]
  },
  {
   "cell_type": "code",
   "execution_count": 24,
   "metadata": {},
   "outputs": [
    {
     "data": {
      "text/plain": [
       "cc      2\n",
       "dd     44\n",
       "ee     55\n",
       "10    300\n",
       "kk    200\n",
       "dtype: int64"
      ]
     },
     "execution_count": 24,
     "metadata": {},
     "output_type": "execute_result"
    }
   ],
   "source": [
    "sr.drop(['aa', 'bb']) # 부여된 인덱스로 해당 값 삭제\n",
    "# 삭제된 결과를 반영시키기 위해서는 변수로 받거나 inplce인자를 True로 해줘야한다"
   ]
  },
  {
   "cell_type": "code",
   "execution_count": 25,
   "metadata": {},
   "outputs": [
    {
     "data": {
      "text/plain": [
       "aa     11\n",
       "bb      1\n",
       "cc      2\n",
       "dd     44\n",
       "ee     55\n",
       "10    300\n",
       "kk    200\n",
       "dtype: int64"
      ]
     },
     "execution_count": 25,
     "metadata": {},
     "output_type": "execute_result"
    }
   ],
   "source": [
    "sr"
   ]
  },
  {
   "cell_type": "code",
   "execution_count": 26,
   "metadata": {},
   "outputs": [
    {
     "data": {
      "text/plain": [
       "cc      2\n",
       "dd     44\n",
       "ee     55\n",
       "10    300\n",
       "kk    200\n",
       "dtype: int64"
      ]
     },
     "execution_count": 26,
     "metadata": {},
     "output_type": "execute_result"
    }
   ],
   "source": [
    "sr.drop(['aa', 'bb'], inplace=True)\n",
    "sr"
   ]
  },
  {
   "cell_type": "code",
   "execution_count": 35,
   "metadata": {},
   "outputs": [
    {
     "data": {
      "text/plain": [
       "cc     2\n",
       "dd    44\n",
       "ee    55\n",
       "dtype: int64"
      ]
     },
     "execution_count": 35,
     "metadata": {},
     "output_type": "execute_result"
    }
   ],
   "source": [
    "# 조건으로 삭제\n",
    "sr.drop(sr[sr>100].index)"
   ]
  },
  {
   "cell_type": "markdown",
   "metadata": {},
   "source": [
    "### 정렬"
   ]
  },
  {
   "cell_type": "code",
   "execution_count": 37,
   "metadata": {},
   "outputs": [
    {
     "data": {
      "text/plain": [
       "aa    100\n",
       "bb     20\n",
       "cc     50\n",
       "dd    200\n",
       "ee     44\n",
       "dtype: int64"
      ]
     },
     "execution_count": 37,
     "metadata": {},
     "output_type": "execute_result"
    }
   ],
   "source": [
    "sr = pd.Series({'aa': 100, 'bb': 20, 'cc': 50, 'dd': 200, 'ee':44})\n",
    "sr"
   ]
  },
  {
   "cell_type": "code",
   "execution_count": 38,
   "metadata": {},
   "outputs": [
    {
     "data": {
      "text/plain": [
       "bb     20\n",
       "ee     44\n",
       "cc     50\n",
       "aa    100\n",
       "dd    200\n",
       "dtype: int64"
      ]
     },
     "execution_count": 38,
     "metadata": {},
     "output_type": "execute_result"
    }
   ],
   "source": [
    "# 값을 기준으로 오름차순 정렬\n",
    "# 결과를 반영하기 위해서는 변수로 받거나 inplace=True 해줘야 한다.\n",
    "sr.sort_values()"
   ]
  },
  {
   "cell_type": "code",
   "execution_count": 39,
   "metadata": {},
   "outputs": [
    {
     "data": {
      "text/plain": [
       "dd    200\n",
       "aa    100\n",
       "cc     50\n",
       "ee     44\n",
       "bb     20\n",
       "dtype: int64"
      ]
     },
     "execution_count": 39,
     "metadata": {},
     "output_type": "execute_result"
    }
   ],
   "source": [
    "# 값을 기준으로 내림 정렬\n",
    "sr.sort_values(ascending=False)"
   ]
  },
  {
   "cell_type": "code",
   "execution_count": 40,
   "metadata": {},
   "outputs": [
    {
     "data": {
      "text/plain": [
       "aa    100\n",
       "bb     20\n",
       "cc     50\n",
       "dd    200\n",
       "ee     44\n",
       "dtype: int64"
      ]
     },
     "execution_count": 40,
     "metadata": {},
     "output_type": "execute_result"
    }
   ],
   "source": [
    "# 인덱스 기준으로 오름차순 정렬\n",
    "sr.sort_index()"
   ]
  },
  {
   "cell_type": "code",
   "execution_count": 41,
   "metadata": {},
   "outputs": [
    {
     "data": {
      "text/plain": [
       "ee     44\n",
       "dd    200\n",
       "cc     50\n",
       "bb     20\n",
       "aa    100\n",
       "dtype: int64"
      ]
     },
     "execution_count": 41,
     "metadata": {},
     "output_type": "execute_result"
    }
   ],
   "source": [
    "# 인덱스 기준으로 내림차순 정렬\n",
    "sr.sort_index(ascending=False)"
   ]
  }
 ],
 "metadata": {
  "kernelspec": {
   "display_name": "Python 3",
   "language": "python",
   "name": "python3"
  },
  "language_info": {
   "codemirror_mode": {
    "name": "ipython",
    "version": 3
   },
   "file_extension": ".py",
   "mimetype": "text/x-python",
   "name": "python",
   "nbconvert_exporter": "python",
   "pygments_lexer": "ipython3",
   "version": "3.8.5"
  }
 },
 "nbformat": 4,
 "nbformat_minor": 4
}
